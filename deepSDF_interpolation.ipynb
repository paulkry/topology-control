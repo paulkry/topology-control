{
 "cells": [
  {
   "cell_type": "code",
   "execution_count": null,
   "id": "354adf35-3236-4d2f-824f-e639c81af77b",
   "metadata": {},
   "outputs": [],
   "source": [
    "import torch\n",
    "import os\n",
    "import numpy as np\n",
    "import skimage\n",
    "\n",
    "os.chdir('/homes/dnogina/code/topology-control/')"
   ]
  },
  {
   "cell_type": "code",
   "execution_count": null,
   "id": "57e2043e-91bc-49fc-81d7-8c5fc039c96a",
   "metadata": {},
   "outputs": [],
   "source": [
    "from src.CPipelineOrchestrator import CPipelineOrchestrator\n",
    "from src.CModelTrainer import SDFDataset\n",
    "from src.CEvaluator import CEvaluator\n",
    "from src.CGeometryUtils import VolumeProcessor"
   ]
  },
  {
   "cell_type": "code",
   "execution_count": null,
   "id": "4384796f-4c03-48f3-8b7e-5878c1755304",
   "metadata": {},
   "outputs": [],
   "source": [
    "ckpt = torch.load('artifacts/first_working.pth')"
   ]
  },
  {
   "cell_type": "code",
   "execution_count": null,
   "id": "bf1c8178-38ef-4791-b3da-4e2054c12c44",
   "metadata": {},
   "outputs": [],
   "source": [
    "orc = CPipelineOrchestrator()\n",
    "deepsdf_model = orc.architecture_manager.get_model()\n",
    "_ = deepsdf_model.load_state_dict(ckpt['model_state_dict'])"
   ]
  },
  {
   "cell_type": "code",
   "execution_count": null,
   "id": "de754291-edc2-454b-b8b4-f2712b4c5dec",
   "metadata": {},
   "outputs": [],
   "source": [
    "processing_results = orc.data_processor.generate_sdf_dataset(\n",
    "                z_dim=16,\n",
    "                latent_mean=0,\n",
    "                latent_sd=0.02\n",
    "            )"
   ]
  },
  {
   "cell_type": "code",
   "execution_count": null,
   "id": "5eec875f-ae91-4397-94e6-a932901bee11",
   "metadata": {},
   "outputs": [],
   "source": [
    "ds = SDFDataset(processing_results['dataset_info'])\n",
    "ds.latent_vectors = ckpt['latent_vectors']"
   ]
  },
  {
   "cell_type": "code",
   "execution_count": null,
   "id": "6bce09a6-7618-4dff-861d-cc45d6701e29",
   "metadata": {},
   "outputs": [],
   "source": [
    "ds.latent_vectors.min(), ds.latent_vectors.max()"
   ]
  },
  {
   "cell_type": "code",
   "execution_count": null,
   "id": "d21148cb-853a-4d6a-8990-c6120c2e3952",
   "metadata": {},
   "outputs": [],
   "source": [
    "import os\n",
    "os.chdir('/homes/dnogina/code/topology-control/volume/')"
   ]
  },
  {
   "cell_type": "code",
   "execution_count": null,
   "id": "ab556de3-6c4e-48fc-b1d4-4e974ce5f916",
   "metadata": {},
   "outputs": [],
   "source": [
    "from visualize import visualize_latent_vs_genera, construct_from_latent\n",
    "from config import COORDS_FIRST"
   ]
  },
  {
   "cell_type": "code",
   "execution_count": null,
   "id": "c3143c40-1813-425f-ac98-7e4421a2b1fc",
   "metadata": {},
   "outputs": [],
   "source": [
    "visualize_latent_vs_genera(path='/homes/dnogina/code/topology-control/volume/data/2d_latents_volumes_deepsdf.npz')"
   ]
  },
  {
   "cell_type": "code",
   "execution_count": null,
   "id": "b36d0b09-0c00-4c4d-9cff-4cc93df844ce",
   "metadata": {},
   "outputs": [],
   "source": [
    "from compute_path_opt import compute_path\n",
    "from model import Latent2Genera\n",
    "from dataset import GeneraDataset\n",
    "\n",
    "dataset = GeneraDataset(\n",
    "        dataset_path=os.path.join( \"data\", \"2d_latents_volumes_deepsdf.npz\")\n",
    "    )"
   ]
  },
  {
   "cell_type": "code",
   "execution_count": null,
   "id": "a88902c4-883a-4d9b-8bec-e36be7077914",
   "metadata": {},
   "outputs": [],
   "source": [
    "checkpoint = torch.load(\"checkpoints/latent2genera_deefsdf_best.pt\", map_location=\"cuda\")"
   ]
  },
  {
   "cell_type": "code",
   "execution_count": null,
   "id": "69a67ded-5698-4729-affd-7e85634444a0",
   "metadata": {},
   "outputs": [],
   "source": [
    "model = Latent2Genera(16, num_classes=dataset.num_classes).to(\"cuda\")\n",
    "\n",
    "# Load the saved state_dict (weights)\n",
    "model.load_state_dict(checkpoint[\"model_state_dict\"])\n",
    "model.eval()"
   ]
  },
  {
   "cell_type": "code",
   "execution_count": null,
   "id": "24557724-1ca7-4b0c-b4a1-7103c779f760",
   "metadata": {},
   "outputs": [],
   "source": [
    "path = compute_path(ds.latent_vectors[-2].to(\"cuda\"), ds.latent_vectors[-1].to(\"cuda\"), model)"
   ]
  },
  {
   "cell_type": "code",
   "execution_count": null,
   "id": "f665bf68-2407-48ad-b383-8740ec53a7bb",
   "metadata": {},
   "outputs": [],
   "source": [
    "path.shape"
   ]
  },
  {
   "cell_type": "code",
   "execution_count": null,
   "id": "46dccf41-6a0c-48c1-a003-a2944bea76ef",
   "metadata": {},
   "outputs": [],
   "source": [
    "import igl\n",
    "from visualize import get_volume_coords #,generate_mesh\n",
    "from compute_volume import predict_sdf\n",
    "\n",
    "def construct_from_latent(model, latent, positioning, index, type):\n",
    "    \"\"\"\n",
    "    Reconstruct the mesh from a latent vector using the model\n",
    "    \n",
    "    Parameters:\n",
    "        model: Trained DeepSDF model or SDF_interpolator object\n",
    "        latent: A latent vector\n",
    "        positioning: helix (circular) or row\n",
    "        index: the index used for angle or shift calculation\n",
    "    Returns:\n",
    "        vertices, faces\n",
    "    \"\"\"\n",
    "    coords, grid_size = get_volume_coords()\n",
    "\n",
    "    # vertices, faces = generate_mesh(latent.to(\"cuda\"), coords[None].to(\"cuda\"), grid_size, model.to(\"cuda\"), type)\n",
    "\n",
    "    if positioning == \"row\":\n",
    "        vertices[:, 0] += 2 * index\n",
    "    else:\n",
    "        angle = (index % 10) * 2 * np.pi / 10 \n",
    "        vertices[:, 0] += 3 * np.cos(angle)\n",
    "        vertices[:, 1] += 3 * np.sin(angle)\n",
    "        vertices[:, 2] += 0.2 * index\n",
    "    \n",
    "    return vertices, faces\n",
    "\n",
    "i = 49\n",
    "latent = path[i]\n",
    "V, F = construct_from_latent(deepsdf_model, latent, \"helix\", i, COORDS_FIRST)\n"
   ]
  },
  {
   "cell_type": "code",
   "execution_count": null,
   "id": "eaf39940-fd82-4532-b419-39f9d3bd2d0a",
   "metadata": {},
   "outputs": [],
   "source": [
    "import plotly.graph_objects as go\n",
    "import numpy as np\n",
    "from trimesh import Trimesh\n",
    "\n",
    "import plotly.io as pio\n",
    "pio.renderers.default='notebook'\n",
    "\n",
    "x, y, z = -np.array(V).T\n",
    "i, j, k = np.array(F).T\n",
    "\n",
    "fig = go.Figure(data=[\n",
    "    go.Mesh3d(x=x, y=y, z=z, i=i, j=j, k=k, opacity=1),\n",
    "    # go.Scatter3d(x=coords[:,0], y=coords[:,1], z=coords[:,2], mode='markers', marker=dict(size=3, color=sdfs),marker_colorscale='Viridis')\n",
    "])\n",
    "fig.update_layout(template='plotly_white')\n",
    "fig.show()\n"
   ]
  },
  {
   "cell_type": "code",
   "execution_count": null,
   "id": "7e7c6ed3-64e5-44b3-b331-9b3e7f9f55d9",
   "metadata": {},
   "outputs": [],
   "source": []
  }
 ],
 "metadata": {
  "kernelspec": {
   "display_name": "Python 3 (ipykernel)",
   "language": "python",
   "name": "python3"
  },
  "language_info": {
   "codemirror_mode": {
    "name": "ipython",
    "version": 3
   },
   "file_extension": ".py",
   "mimetype": "text/x-python",
   "name": "python",
   "nbconvert_exporter": "python",
   "pygments_lexer": "ipython3",
   "version": "3.12.2"
  }
 },
 "nbformat": 4,
 "nbformat_minor": 5
}
