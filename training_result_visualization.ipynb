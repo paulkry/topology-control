{
 "cells": [
  {
   "cell_type": "code",
   "execution_count": null,
   "id": "d4237abb-f5ac-41e3-a237-0789fc9e9235",
   "metadata": {},
   "outputs": [],
   "source": [
    "import torch\n",
    "import os\n",
    "import numpy as np\n",
    "import skimage\n",
    "\n",
    "os.chdir('/homes/dnogina/code/topology-control/')"
   ]
  },
  {
   "cell_type": "code",
   "execution_count": null,
   "id": "41b386c8-f111-413c-8bfe-e303c89f3dab",
   "metadata": {},
   "outputs": [],
   "source": [
    "from src.CPipelineOrchestrator import CPipelineOrchestrator\n",
    "from src.CModelTrainer import SDFDataset\n",
    "from src.CEvaluator import CEvaluator\n",
    "from src.CGeometryUtils import VolumeProcessor"
   ]
  },
  {
   "cell_type": "code",
   "execution_count": null,
   "id": "09bf802c-893a-4c16-bc8f-84b9a73784a8",
   "metadata": {},
   "outputs": [],
   "source": [
    "ckpt = torch.load('/homes/dnogina/code/topology-control/artifacts/experiment_20250722_200033/training_artifacts/run_20250722_200037/checkpoints/latest_checkpoint.pth')"
   ]
  },
  {
   "cell_type": "code",
   "execution_count": null,
   "id": "55cab654-5e70-4e91-b6f7-3a89a4073242",
   "metadata": {},
   "outputs": [],
   "source": [
    "# torch.save(ckpt, '../artifacts/first_working.pth')"
   ]
  },
  {
   "cell_type": "code",
   "execution_count": null,
   "id": "2c0a4ad5-d633-4e46-8c5e-227328ed490d",
   "metadata": {},
   "outputs": [],
   "source": [
    "orc = CPipelineOrchestrator()"
   ]
  },
  {
   "cell_type": "code",
   "execution_count": null,
   "id": "5daa2357-57bb-4152-8c8b-1218d39b0887",
   "metadata": {},
   "outputs": [],
   "source": [
    "model = orc.architecture_manager.get_model()"
   ]
  },
  {
   "cell_type": "code",
   "execution_count": null,
   "id": "407f03f5-f620-4502-9d4e-ec2b9545e4f5",
   "metadata": {},
   "outputs": [],
   "source": [
    "model.load_state_dict(ckpt['model_state_dict'])"
   ]
  },
  {
   "cell_type": "code",
   "execution_count": null,
   "id": "8a2c3e7d-c8b5-431c-8b05-98d6e9069041",
   "metadata": {},
   "outputs": [],
   "source": [
    "processing_results = orc.data_processor.generate_sdf_dataset(\n",
    "                z_dim=16,\n",
    "                latent_mean=0,\n",
    "                latent_sd=0.02\n",
    "            )"
   ]
  },
  {
   "cell_type": "code",
   "execution_count": null,
   "id": "2cfc2f54-b8ed-42dc-a52a-ac1197e6b5b3",
   "metadata": {},
   "outputs": [],
   "source": [
    "ds = SDFDataset(processing_results['dataset_info'])\n",
    "ds.latent_vectors = ckpt['latent_vectors']"
   ]
  },
  {
   "cell_type": "code",
   "execution_count": null,
   "id": "39310536-3194-480d-bd3a-41693ed0909c",
   "metadata": {},
   "outputs": [],
   "source": [
    "coords, latents, sdfs = ds[3]"
   ]
  },
  {
   "cell_type": "code",
   "execution_count": null,
   "id": "a066710b-41d2-492d-a59f-93ce5f1b6df1",
   "metadata": {},
   "outputs": [],
   "source": [
    "resolution = 150\n",
    "volume_processor = VolumeProcessor(device='cpu', resolution=resolution)\n",
    "all_coords, actual_grid_size = volume_processor._get_volume_coords(device='cpu', resolution=resolution)"
   ]
  },
  {
   "cell_type": "code",
   "execution_count": null,
   "id": "d12d4819-2bc3-4559-ab1c-9ff36608412c",
   "metadata": {},
   "outputs": [],
   "source": [
    "with torch.no_grad():\n",
    "    predicted_sdfs = model(latents[None], all_coords[None])\n",
    "    predicted_sdfs = predicted_sdfs.squeeze(-1) if predicted_sdfs.dim() > 1 else predicted_sdfs"
   ]
  },
  {
   "cell_type": "code",
   "execution_count": null,
   "id": "2742f902-19b1-4347-bca9-bab6079effe6",
   "metadata": {},
   "outputs": [],
   "source": [
    "def extract_mesh(grad_size_axis, sdf, level=0.0):\n",
    "    \"\"\"\n",
    "    Extract mesh from SDF using marching cubes.\n",
    "    \"\"\"\n",
    "    print(f\"        extract_mesh: grid_size={grad_size_axis}, sdf_shape={sdf.shape}, sdf_numel={sdf.numel()}\")\n",
    "    \n",
    "    try:\n",
    "        # Validate input size\n",
    "        expected_size = grad_size_axis ** 3\n",
    "        if sdf.numel() != expected_size:\n",
    "            raise ValueError(f\"SDF size mismatch: got {sdf.numel()}, expected {expected_size} for {grad_size_axis}³ grid\")\n",
    "        \n",
    "        # Check minimum grid size for marching cubes\n",
    "        if grad_size_axis < 2:\n",
    "            raise ValueError(f\"Grid size {grad_size_axis} is too small. Marching cubes requires at least 2x2x2 grid.\")\n",
    "        \n",
    "        # Extract zero-level set with marching cubes\n",
    "        grid_sdf = sdf.view(grad_size_axis, grad_size_axis, grad_size_axis).detach().cpu().numpy()\n",
    "        print(f\"        Grid SDF shape after reshape: {grid_sdf.shape}\")\n",
    "        print(f\"        Grid SDF range: [{grid_sdf.min():.4f}, {grid_sdf.max():.4f}]\")\n",
    "        \n",
    "        # Automatically adjust level if it's outside the SDF range\n",
    "        sdf_min, sdf_max = grid_sdf.min(), grid_sdf.max()\n",
    "        original_level = level\n",
    "        \n",
    "        if level < sdf_min or level > sdf_max:\n",
    "            if sdf_min < 0 < sdf_max:\n",
    "                level = 0.0\n",
    "                print(f\"        Using zero level set (level=0.0)\")\n",
    "            else:\n",
    "                # Use a level that's within the range, typically the median or a small value\n",
    "                level = np.percentile(grid_sdf, 20)  # 20th percentile often works well\n",
    "                print(f\"        Level {original_level} outside range [{sdf_min:.4f}, {sdf_max:.4f}]\")\n",
    "                print(f\"        Using level={level:.4f} (20th percentile)\")\n",
    "        \n",
    "        vertices, faces, normals, _ = skimage.measure.marching_cubes(grid_sdf, level=level)\n",
    "        print(f\"        Marching cubes extracted: {len(vertices)} vertices, {len(faces)} faces\")\n",
    "\n",
    "        # Rescale vertices extracted with marching cubes\n",
    "        x_max = np.array([1, 1, 1])\n",
    "        x_min = np.array([-1, -1, -1])\n",
    "        vertices = vertices * ((x_max-x_min) / grad_size_axis) + x_min\n",
    "\n",
    "        return vertices, faces\n",
    "    except Exception as e:\n",
    "            print(f\"        extract_mesh error: {e}\")\n",
    "            return np.array([]), np.array([])"
   ]
  },
  {
   "cell_type": "code",
   "execution_count": null,
   "id": "f8e267cf-64b3-4816-a67b-d2d0011898c4",
   "metadata": {},
   "outputs": [],
   "source": [
    "vertices, faces = extract_mesh(actual_grid_size, predicted_sdfs[0], level=0.0)"
   ]
  },
  {
   "cell_type": "code",
   "execution_count": null,
   "id": "a6ae53e2-9ea6-4813-89c0-72e0491abe20",
   "metadata": {},
   "outputs": [],
   "source": [
    "import plotly.graph_objects as go\n",
    "import numpy as np\n",
    "from trimesh import Trimesh\n",
    "\n",
    "import plotly.io as pio\n",
    "pio.renderers.default='notebook'\n",
    "\n",
    "x, y, z = -np.array(vertices).T\n",
    "i, j, k = np.array(faces).T\n",
    "\n",
    "fig = go.Figure(data=[\n",
    "    go.Mesh3d(x=x, y=y, z=z, i=i, j=j, k=k, opacity=1),\n",
    "    # go.Scatter3d(x=coords[:,0], y=coords[:,1], z=coords[:,2], mode='markers', marker=dict(size=3, color=sdfs),marker_colorscale='Viridis')\n",
    "])\n",
    "# fig.update_layout(template='plotly_white',  show_scale=True)\n",
    "fig.show()\n"
   ]
  },
  {
   "cell_type": "code",
   "execution_count": null,
   "id": "91dbb2f6-6d7d-49d9-8079-e7e1d7ed4bb8",
   "metadata": {},
   "outputs": [],
   "source": [
    "os.chdir('/homes/dnogina/code/topology-control/volume')\n",
    "from compute_volume import compute_genus"
   ]
  },
  {
   "cell_type": "code",
   "execution_count": null,
   "id": "311e5018-2a6c-46b9-815c-10a237c80b72",
   "metadata": {},
   "outputs": [],
   "source": [
    "compute_genus(vertices, faces)"
   ]
  },
  {
   "cell_type": "code",
   "execution_count": null,
   "id": "0fb22f73-04dc-4b53-9976-00d504950279",
   "metadata": {},
   "outputs": [],
   "source": []
  }
 ],
 "metadata": {
  "kernelspec": {
   "display_name": "Python 3 (ipykernel)",
   "language": "python",
   "name": "python3"
  },
  "language_info": {
   "codemirror_mode": {
    "name": "ipython",
    "version": 3
   },
   "file_extension": ".py",
   "mimetype": "text/x-python",
   "name": "python",
   "nbconvert_exporter": "python",
   "pygments_lexer": "ipython3",
   "version": "3.12.2"
  }
 },
 "nbformat": 4,
 "nbformat_minor": 5
}
